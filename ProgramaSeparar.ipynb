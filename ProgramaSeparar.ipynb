{
  "nbformat": 4,
  "nbformat_minor": 0,
  "metadata": {
    "colab": {
      "name": "ProgramaSeparar",
      "provenance": []
    },
    "kernelspec": {
      "name": "python3",
      "display_name": "Python 3"
    },
    "language_info": {
      "name": "python"
    }
  },
  "cells": [
    {
      "cell_type": "code",
      "execution_count": null,
      "metadata": {
        "id": "kfIGPfpRgRzY"
      },
      "outputs": [],
      "source": [
        "import pandas as pd\n",
        "\n",
        "bajas = pd.read_excel('/content/Bajas.xlsx', sheet_name = 'Hoja1')\n",
        "altas = pd.read_excel('/content/Altas.xlsx', sheet_name = 'Hoja1')\n",
        "\n",
        "bajas"
      ]
    },
    {
      "cell_type": "code",
      "source": [
        "bajasPool= bajas.drop(range(0, 360, 3), axis = 0)\n",
        "bajasControl = bajasPool.drop(range(2, 360, 3), axis = 0)\n",
        "altasPool = altas.drop(range(0, 360, 3), axis = 0)\n",
        "altasControl = altasPool.drop(range(2, 360, 3), axis = 0)"
      ],
      "metadata": {
        "id": "n--ntD8TghAU"
      },
      "execution_count": null,
      "outputs": []
    },
    {
      "cell_type": "code",
      "source": [
        "data1 = data.drop(range(0 + 15, 720, 30), axis = 0)\n",
        "data2 = data1.drop(range(1 + 15, 720, 30), axis = 0)\n",
        "data3 = data2.drop(range(2 + 15, 720, 30), axis = 0)\n",
        "data4 = data3.drop(range(3 + 15, 720, 30), axis = 0)\n",
        "data5 = data4.drop(range(4 + 15, 720, 30), axis = 0)\n",
        "data6 = data5.drop(range(5 + 15, 720, 30), axis = 0)\n",
        "data7 = data6.drop(range(6 +15, 720, 30), axis = 0)\n",
        "data8 = data7.drop(range(7 + 15, 720, 30), axis = 0)\n",
        "data9 = data8.drop(range(8 + 15, 720, 30), axis = 0)\n",
        "data10 = data9.drop(range(9 + 15, 720, 30), axis = 0)\n",
        "data11 = data10.drop(range(10 + 15, 720, 30), axis = 0)\n",
        "data12 = data11.drop(range(11 + 15, 720, 30), axis = 0)\n",
        "data13 = data12.drop(range(12 + 15, 720, 30), axis = 0)\n",
        "data14 = data13.drop(range(13 + 15, 720, 30), axis = 0)\n",
        "data15 = data14.drop(range(14 + 15, 720, 30), axis = 0)\n",
        "data15"
      ],
      "metadata": {
        "id": "JgycrOr5gi8S"
      },
      "execution_count": null,
      "outputs": []
    },
    {
      "cell_type": "code",
      "source": [
        "bajasControl.to_excel('Bajas5cm.xlsx', sheet_name='Hoja1')\n",
        "altasControl.to_excel('Altas5cm.xlsx', sheet_name='Hoja1')"
      ],
      "metadata": {
        "id": "poQH7-eagjeD"
      },
      "execution_count": null,
      "outputs": []
    }
  ]
}